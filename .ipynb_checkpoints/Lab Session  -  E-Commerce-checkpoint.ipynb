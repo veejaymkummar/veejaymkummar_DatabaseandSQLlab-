{
 "cells": [
  {
   "cell_type": "markdown",
   "id": "2c8f47d3",
   "metadata": {
    "id": "2c8f47d3"
   },
   "source": [
    "# Lab Session"
   ]
  },
  {
   "cell_type": "markdown",
   "id": "f637aba6",
   "metadata": {
    "id": "f637aba6"
   },
   "source": [
    "## <font color='blue'> Table Of Contents </font>\n",
    "- Problem Statement \n",
    "- Load required libraries\n",
    "- Connect to DB using mysql-connector-python package\n",
    "- Create database named `e_commerce`\n",
    "- Create tables and insert data into tables as specified in the question\n",
    "- Read all the questions and write sql queries to meet the objective "
   ]
  },
  {
   "cell_type": "markdown",
   "id": "1073fc90",
   "metadata": {
    "id": "1073fc90"
   },
   "source": [
    "## <font color='blue'> Problem Statement </font>\n",
    "###  An E-commerce website manages its data in the form of various tables.\n",
    "You need to create a Database called `e_commerce` and various tables in it. The tables needed and attributes which need to be in every table are given before hand. All you have to do is create tables with data in it and answer some of the questions that follows."
   ]
  },
  {
   "cell_type": "markdown",
   "id": "48787355",
   "metadata": {
    "id": "48787355"
   },
   "source": [
    "### e_commerce Schema:"
   ]
  },
  {
   "cell_type": "markdown",
   "id": "78938fbc",
   "metadata": {
    "id": "78938fbc"
   },
   "source": [
    "![e_commerce%20_schema.png](attachment:e_commerce%20_schema.png)"
   ]
  },
  {
   "cell_type": "markdown",
   "id": "d9abe6c7",
   "metadata": {
    "id": "d9abe6c7"
   },
   "source": [
    "### Load Required Libraries"
   ]
  },
  {
   "cell_type": "code",
   "execution_count": 1,
   "id": "0178d08e",
   "metadata": {
    "id": "0178d08e"
   },
   "outputs": [],
   "source": [
    "import mysql.connector"
   ]
  },
  {
   "cell_type": "markdown",
   "id": "d7d7fd5c",
   "metadata": {
    "id": "d7d7fd5c"
   },
   "source": [
    "### Connect to DB using Mysql-connector-python package"
   ]
  },
  {
   "cell_type": "code",
   "execution_count": 2,
   "id": "ef7bef72",
   "metadata": {
    "id": "ef7bef72"
   },
   "outputs": [],
   "source": [
    "myDB= mysql.connector.connect(host=\"localhost\", user=\"root\", password=\"Mahakaal@123\")"
   ]
  },
  {
   "cell_type": "markdown",
   "id": "9d55e510",
   "metadata": {
    "id": "9d55e510"
   },
   "source": [
    "### You are required to create a database named 'e_commerce'"
   ]
  },
  {
   "cell_type": "code",
   "execution_count": 4,
   "id": "42a154f2",
   "metadata": {
    "id": "42a154f2"
   },
   "outputs": [],
   "source": [
    "myCursor = myDB.cursor()\n",
    "myCursor.execute(\"CREATE DATABASE e_Commerce\")"
   ]
  },
  {
   "cell_type": "markdown",
   "id": "480dc986",
   "metadata": {
    "id": "480dc986"
   },
   "source": [
    "### Q1. Create tables for supplier, customer, category, product, productDetails, order, rating to store the data for the E-commerce with the schema definition given below.\n",
    "\n",
    "\n",
    "- **`supplier`**(SUPP_ID int primary key, SUPP_NAME varchar(50), SUPP_CITY varchar(50), SUPP_PHONE varchar(10))\n",
    "\n",
    "\n",
    "- **`customer`** (CUS_ID INT NOT NULL, CUS_NAME VARCHAR(20) NULL DEFAULT NULL, CUS_PHONE VARCHAR(10), CUS_CITY varchar(30) ,CUS_GENDER CHAR,PRIMARY KEY (CUS_ID))\n",
    "\n",
    "\n",
    "- **`category`** (CAT_ID INT NOT NULL, CAT_NAME VARCHAR(20) NULL DEFAULT NULL,PRIMARY KEY (CAT_ID))\n",
    "\n",
    "\n",
    "- **`product`** (PRO_ID INT NOT NULL, PRO_NAME VARCHAR(20) NULL DEFAULT NULL, PRO_DESC VARCHAR(60) NULL DEFAULT NULL, CAT_ID INT NOT NULL,PRIMARY KEY (PRO_ID),FOREIGN KEY (CAT_ID) REFERENCES CATEGORY (CAT_ID))\n",
    "\n",
    "\n",
    "- **`product_details`** (PROD_ID INT NOT NULL, PRO_ID INT NOT NULL, SUPP_ID INT NOT NULL, PROD_PRICE INT NOT NULL,\n",
    "  PRIMARY KEY (PROD_ID),FOREIGN KEY (PRO_ID) REFERENCES PRODUCT (PRO_ID), FOREIGN KEY (SUPP_ID) REFERENCES SUPPLIER(SUPP_ID))\n",
    "  \n",
    "  \n",
    "- **`order`** (ORD_ID INT NOT NULL, ORD_AMOUNT INT NOT NULL, ORD_DATE DATE, CUS_ID INT NOT NULL, PROD_ID INT NOT NULL,PRIMARY KEY (ORD_ID),FOREIGN KEY (CUS_ID) REFERENCES CUSTOMER(CUS_ID),FOREIGN KEY (PROD_ID) REFERENCES PRODUCT_DETAILS(PROD_ID))\n",
    "\n",
    "\n",
    "- **`rating`** (RAT_ID INT NOT NULL, CUS_ID INT NOT NULL, SUPP_ID INT NOT NULL, RAT_RATSTARS INT NOT NULL,PRIMARY KEY (RAT_ID),FOREIGN KEY (SUPP_ID) REFERENCES SUPPLIER (SUPP_ID),FOREIGN KEY (CUS_ID) REFERENCES CUSTOMER(CUS_ID))"
   ]
  },
  {
   "cell_type": "code",
   "execution_count": 5,
   "id": "967b718f",
   "metadata": {
    "id": "967b718f"
   },
   "outputs": [],
   "source": [
    "myCursor.execute(\"use e_Commerce\")\n",
    "myCursor.execute(\"create table supplier (SUPP_ID int not null auto_increment, SUPP_NAME varchar(50), SUPP_CITY varchar(50), SUPP_PHONE varchar(10), primary key (SUPP_ID));\")\n",
    "myCursor.execute(\"create table customer(CUS_ID int not null auto_increment, CUS_NAME varchar(50), CUS_PHONE varchar(10), CUS_CITY varchar(30), CUS_GENDER char, primary key (CUS_ID));\")\n",
    "myCursor.execute (\"create table category (CAT_ID int not null auto_increment, CAT_NAME varchar(20), primary key (CAT_ID));\")\n",
    "myCursor.execute(\"create table product (PRO_ID int not null auto_increment, PRO_NAME varchar(20), PRO_DESC varchar(60), CAT_ID int not null, primary key(PRO_ID), foreign key (CAT_ID) references category(CAT_ID));\")\n",
    "myCursor.execute(\"create table product_details(PROD_ID int not null auto_increment, PRO_ID int not null, SUPP_ID int not null, PROD_PRICE float, primary key (PROD_ID), foreign key (SUPP_ID) references supplier(SUPP_ID), foreign key (PRO_ID) references product(PRO_ID));\")\n",
    "myCursor.execute(\"create table orders( ORD_ID int not null auto_increment, ORD_AMOUNT float, ORD_DATE date, CUS_ID int not null, PROD_ID int not null, primary key (ORD_ID), foreign key (PROD_ID) references product_details(PROD_ID), foreign key(CUS_ID) references customer(CUS_ID));\")\n",
    "myCursor.execute(\"create table rating (RAT_ID int not null auto_increment, CUS_ID int not null, SUPP_ID int not null, RAT_RATSTARS int not null, primary key(RAT_ID), foreign key (CUS_ID) references customer (CUS_ID), foreign key (SUPP_ID) references supplier(SUPP_ID));\")"
   ]
  },
  {
   "cell_type": "markdown",
   "id": "1f653731",
   "metadata": {
    "id": "1f653731"
   },
   "source": [
    "### Q2. Insert the following data in the table created above\n",
    "#### `Note:` If you are getting any error while inserting the data into tables, Kindly close the connection and reconnect\n",
    "\n",
    "#### Table:  supplier\n",
    "| SUPP_ID | SUPP_NAME | SUPP_CITY | SUPP_PHONE |\n",
    "| --- | --- | --- | --- | \n",
    "| 1 | Rajesh Retails | Delhi | 1234567890 |\n",
    "| 2 | Appario Ltd. | Mumbai | 258963147032 | \n",
    "| 3 | Knome products | Bangalore | 9785462315 |\n",
    "| 4 | Bansal Retails | Kochi | 8975463285 |\n",
    "| 5 | Mittal Ltd. | Lucknow | 7898456532 |"
   ]
  },
  {
   "cell_type": "code",
   "execution_count": 6,
   "id": "f6dddd07",
   "metadata": {
    "id": "f6dddd07"
   },
   "outputs": [],
   "source": [
    "# insert into supplier\n",
    "SupplierQuery = \"insert into supplier (SUPP_NAME, SUPP_CITY, SUPP_PHONE) VALUES (%s, %s, %s)\"\n",
    "SupplierValues = [(\"Rajesh Retails\", \"Delhi\", \"1234567890\"),\n",
    "                  (\"Appario Ltd.\", \"Mumbai\", \"8963147032\"),\n",
    "                  (\"Knome products\", \"Bangalore\", \"9785462315\"),\n",
    "                  (\"Bansal Retails\", \"Kochi\", \"8975463285\"),\n",
    "                  (\"Mittal Ltd.\", \"Lucknow\", \"7898456532\")]\n",
    "myCursor.executemany(SupplierQuery, SupplierValues)\n",
    "myDB.commit()\n"
   ]
  },
  {
   "cell_type": "markdown",
   "id": "e8a070a6",
   "metadata": {
    "id": "e8a070a6"
   },
   "source": [
    "#### Table:  customer\n",
    "| CUS_ID | CUS_NAME | SUPP_PHONE | CUS_CITY | CUS_GENDER\n",
    "| --- | --- | --- | --- | --- |\n",
    "| 1 | AAKASH | 9999999999 | DELHI | M |\n",
    "| 2 | AMAN | 9785463215 | NOIDA | M |\n",
    "| 3 | NEHA | 9999999998 | MUMBAI | F |\n",
    "| 4 | MEGHA | 9994562399 | KOLKATA | F |\n",
    "| 5 | PULKIT | 7895999999 | LUCKNOW | M |"
   ]
  },
  {
   "cell_type": "code",
   "execution_count": 7,
   "id": "15a4ee87",
   "metadata": {
    "id": "15a4ee87"
   },
   "outputs": [],
   "source": [
    "# insert into \"customer\" table\n",
    "CustomerQuery = \"insert into customer (CUS_NAME, CUS_PHONE, CUS_CITY, CUS_GENDER) VALUES (%s, %s, %s, %s)\"\n",
    "CustomerValues = [(\"AAKASH\", \"9999999999\", \"DELHI\", \"M\"),\n",
    "                  (\"AMAN\", \"9785463215\", \"NOIDA\", \"M\"),\n",
    "                  (\"NEHA\", \"9999999998\", \"MUMBAI\", \"F\"),\n",
    "                  (\"MEGHA\", \"9994562399\", \"KOLKATA\", \"F\"),\n",
    "                  (\"PULKIT\", \"7895999999\", \"LUCKNOW\", \"M\" )]\n",
    "myCursor.executemany(CustomerQuery, CustomerValues)\n",
    "myDB.commit()\n"
   ]
  },
  {
   "cell_type": "markdown",
   "id": "b68bfbc2",
   "metadata": {
    "id": "b68bfbc2"
   },
   "source": [
    "#### Table:  category\n",
    "| CAT_ID | CAT_NAME | \n",
    "| --- | --- |  \n",
    "| 1 | BOOKS |\n",
    "| 2 | GAMES |  \n",
    "| 3 | GROCERIES | \n",
    "| 4 | ELECTRONICS | \n",
    "| 5 | CLOTHES | "
   ]
  },
  {
   "cell_type": "code",
   "execution_count": 8,
   "id": "05a00abc",
   "metadata": {
    "id": "05a00abc"
   },
   "outputs": [],
   "source": [
    "# insert into \"categoty\" table\n",
    "CategoryQuery = \"insert into category (CAT_NAME) VALUES ('BOOKS'),('GAMES'), ('GROCERIES'), ('ELECTRONICS'), ('CLOTHES')\"\n",
    "\n",
    "myCursor.execute(CategoryQuery)\n",
    "myDB.commit()\n"
   ]
  },
  {
   "cell_type": "markdown",
   "id": "eb3bc592",
   "metadata": {
    "id": "eb3bc592"
   },
   "source": [
    "#### Table:  product\n",
    "| PRO_ID | PRO_NAME | PRO_DESC | CAT_ID |\n",
    "| --- | --- | --- | --- | \n",
    "| 1 | GTA V | DFJDJFDJFDJFDJFJF | 2 |\n",
    "| 2 | TSHIRT | DFDFJDFJDKFD | 5 | \n",
    "| 3 | ROG LAPTOP | DFNTTNTNTERND | 4 |\n",
    "| 4 | OATS | REURENTBTOTH | 3 |\n",
    "| 5 | HARRY POTTER | NBEMCTHTJTH | 1 |\n"
   ]
  },
  {
   "cell_type": "code",
   "execution_count": 9,
   "id": "cdfbdfad",
   "metadata": {
    "id": "cdfbdfad"
   },
   "outputs": [],
   "source": [
    "# insert into \"product\" table\n",
    "ProductQuery = \"Insert into product (PRO_NAME, PRO_DESC, CAT_ID) VALUES (%s, %s, %s)\"\n",
    "ProductValues = [(\"GTA V\", \"DFJDJFDJFDJFDJFJF\", 2),\n",
    "                 (\"TSHIRT\", \"DFDFJDFJDKFD\", 5),\n",
    "                 (\"ROG LAPTOP\", \"DFNTTNTNTERND\", 4),\n",
    "                 (\"OATS\", \"REURENTBTOTH\", 3),\n",
    "                 (\"HARRY POTTER\", \"NBEMCTHTJTH\", 1)]\n",
    "myCursor.executemany(ProductQuery, ProductValues)\n",
    "myDB.commit()"
   ]
  },
  {
   "cell_type": "markdown",
   "id": "cfa8a47d",
   "metadata": {
    "id": "cfa8a47d"
   },
   "source": [
    "#### Table:  product_details\n",
    "| PROD_ID | PRO_ID | SUPP_ID | PROD_PRICE |\n",
    "| --- | --- | --- | --- | \n",
    "| 1 | 1 | 2 | 1500 |\n",
    "| 2 | 3 | 5 | 30000 | \n",
    "| 3 | 5 | 1 | 3000 |\n",
    "| 4 | 2 | 3 | 2500 |\n",
    "| 5 | 4 | 1 | 1000 |"
   ]
  },
  {
   "cell_type": "code",
   "execution_count": 10,
   "id": "c18ea964",
   "metadata": {
    "id": "c18ea964"
   },
   "outputs": [],
   "source": [
    "# insert into \"product_details\" table\n",
    "ProductDetailsQuery = \"Insert into product_details (PRO_ID, SUPP_ID, PROD_PRICE) VALUES (%s, %s, %s)\"\n",
    "ProductDetailsValues = [(1,2,1200),\n",
    "                (3,5,30000),\n",
    "                (5,1,3000),\n",
    "                (2,3,2500),\n",
    "                (4,1,1000)]\n",
    "myCursor.executemany(ProductDetailsQuery, ProductDetailsValues)\n",
    "myDB.commit()"
   ]
  },
  {
   "cell_type": "markdown",
   "id": "1df49086",
   "metadata": {
    "id": "1df49086"
   },
   "source": [
    "#### Table:  orders\n",
    "| ORD_ID | ORD_AMOUNT | ORD_DATE | CUS_ID | PROD_ID\n",
    "| --- | --- | --- | --- | --- |\n",
    "| 20 | 1500 | 2021-10-12 | 3 | 5 |\n",
    "| 25 | 30500 | 2021-09-16 | 5 | 2 |\n",
    "| 26 | 2000 | 2021-10-05 | 1 | 1 |\n",
    "| 30 | 3500 | 2021-08-16 | 4 | 3 |\n",
    "| 50 | 2000 | 2021-10-06 | 2 | 1 |"
   ]
  },
  {
   "cell_type": "code",
   "execution_count": 11,
   "id": "0d97dc92",
   "metadata": {
    "id": "0d97dc92"
   },
   "outputs": [],
   "source": [
    "# insert into \"orders\" table\n",
    "OrdersQuery = \"Insert into orders (ORD_AMOUNT, ORD_DATE, CUS_ID, PROD_ID) VALUES (%s, %s, %s, %s)\"\n",
    "OrdersValues = [(1500, \"2021-10-12\", 3,5),\n",
    "                       (30500, \"2021-09-16\", 5, 2),\n",
    "                       (2000, \"2021-10-05\", 1,1),\n",
    "                       (3500, \"2021-08-16\", 4, 3),\n",
    "                       (2000, \"2021-10-06\", 2,1)]\n",
    "\n",
    "myCursor.executemany(OrdersQuery, OrdersValues)\n",
    "myDB.commit()"
   ]
  },
  {
   "cell_type": "markdown",
   "id": "75b8ce5f",
   "metadata": {
    "id": "75b8ce5f"
   },
   "source": [
    "#### Table: rating\n",
    "| RAT_ID | CUS_ID | SUPP_ID | RAT_RATSTARS |\n",
    "| --- | --- | --- | --- | \n",
    "| 1 | 2 | 2 | 4 |\n",
    "| 2 | 3 | 4 | 3 | \n",
    "| 3 | 5 | 1 | 5 |\n",
    "| 4 | 1 | 3 | 2 |\n",
    "| 5 | 4 | 5 | 4 |"
   ]
  },
  {
   "cell_type": "code",
   "execution_count": 12,
   "id": "6d5f1e18",
   "metadata": {
    "id": "6d5f1e18"
   },
   "outputs": [],
   "source": [
    "# insert into \"rating\" table\n",
    "ratingQuery = \"Insert into rating (CUS_ID, SUPP_ID, RAT_RATSTARS) VALUES (%s, %s, %s)\"\n",
    "ratingValues = [(2,2,4),\n",
    "               (3,4,3),\n",
    "               (5,1,5),\n",
    "               (1,3,2),\n",
    "               (4,5,4)]\n",
    "\n",
    "myCursor.executemany(ratingQuery, ratingValues)\n",
    "myDB.commit()"
   ]
  },
  {
   "cell_type": "markdown",
   "id": "b59361c3",
   "metadata": {
    "id": "b59361c3"
   },
   "source": [
    "### Q3) Display the number of the customer group by their genders who have placed any order of amount greater than or equal to Rs.3000."
   ]
  },
  {
   "cell_type": "code",
   "execution_count": 13,
   "id": "fcafaf3c",
   "metadata": {
    "id": "fcafaf3c"
   },
   "outputs": [
    {
     "name": "stdout",
     "output_type": "stream",
     "text": [
      "('M', 1)\n",
      "('F', 1)\n"
     ]
    }
   ],
   "source": [
    "myCursor.execute (\"SELECT customer.CUS_GENDER, COUNT(customer.CUS_ID) AS NumberOfCustomers FROM customer INNER JOIN orders ON customer.CUS_ID = orders.CUS_ID WHERE  (orders.ORD_AMOUNT > 3000) GROUP BY customer.CUS_GENDER\") \n",
    "rows = myCursor.fetchall()\n",
    "for row in rows:\n",
    "    print(row)"
   ]
  },
  {
   "cell_type": "markdown",
   "id": "e49e04f5",
   "metadata": {
    "id": "e49e04f5"
   },
   "source": [
    "### Q4) Display all the order along with product name ordered by a customer having Customer_Id=2;"
   ]
  },
  {
   "cell_type": "code",
   "execution_count": 14,
   "id": "9dcb7883",
   "metadata": {
    "id": "9dcb7883"
   },
   "outputs": [
    {
     "name": "stdout",
     "output_type": "stream",
     "text": [
      "(5, 2, 'AMAN', datetime.date(2021, 10, 6), 'GTA V', 2000.0)\n"
     ]
    }
   ],
   "source": [
    "myCursor.execute (\"SELECT orders.ORD_ID, customer.CUS_ID, customer.CUS_Name, orders.ORD_DATE, product.PRO_NAME, orders.ORD_AMOUNT FROM orders INNER JOIN customer ON orders.CUS_ID = customer.CUS_ID INNER JOIN product_details ON orders.PROD_ID = product_details.PROD_ID INNER JOIN product ON product_details.PRO_ID = product.PRO_ID GROUP BY orders.ORD_ID, orders.ORD_AMOUNT, orders.ORD_DATE, product.PRO_NAME, customer.CUS_ID, customer.CUS_Name HAVING (customer.CUS_ID = 2)\") \n",
    "rows = myCursor.fetchall()\n",
    "for row in rows:\n",
    "    print(row)"
   ]
  },
  {
   "cell_type": "markdown",
   "id": "3a33398e",
   "metadata": {
    "id": "3a33398e"
   },
   "source": [
    "### Q5) Display the Supplier details who can supply more than one product."
   ]
  },
  {
   "cell_type": "code",
   "execution_count": 15,
   "id": "e933b979",
   "metadata": {
    "id": "e933b979"
   },
   "outputs": [
    {
     "name": "stdout",
     "output_type": "stream",
     "text": [
      "(1, 'Rajesh Retails', 'Delhi', '1234567890')\n"
     ]
    }
   ],
   "source": [
    "myCursor.execute (\"SELECT product_details.SUPP_ID, supplier.SUPP_NAME, supplier.SUPP_CITY, supplier.SUPP_PHONE FROM product_details INNER JOIN supplier ON product_details.SUPP_ID = supplier.SUPP_ID GROUP BY product_details.SUPP_ID, supplier.SUPP_NAME, supplier.SUPP_CITY, supplier.SUPP_PHONE HAVING (COUNT(product_details.PROD_ID) > 1)\")\n",
    "rows = myCursor.fetchall()\n",
    "for row in rows:\n",
    "    print(row)"
   ]
  },
  {
   "cell_type": "markdown",
   "id": "5fd319ef",
   "metadata": {
    "id": "5fd319ef"
   },
   "source": [
    "### Q6) Find the category of the product whose order amount is minimum."
   ]
  },
  {
   "cell_type": "code",
   "execution_count": 16,
   "id": "06f5cb51",
   "metadata": {
    "id": "06f5cb51"
   },
   "outputs": [
    {
     "name": "stdout",
     "output_type": "stream",
     "text": [
      "('GROCERIES',)\n"
     ]
    }
   ],
   "source": [
    "myCursor.execute (\"SELECT category.CAT_NAME FROM orders INNER JOIN product_details ON orders.PROD_ID = product_details.PROD_ID INNER JOIN product ON product_details.PRO_ID = product.PRO_ID INNER JOIN category ON product.CAT_ID = category.CAT_ID WHERE  (orders.ORD_AMOUNT = (SELECT MIN(ORD_AMOUNT) AS Expr1 FROM orders AS orders_1))\")\n",
    "rows = myCursor.fetchall()\n",
    "for row in rows:\n",
    "    print(row)"
   ]
  },
  {
   "cell_type": "markdown",
   "id": "107102d4",
   "metadata": {
    "id": "107102d4"
   },
   "source": [
    "### Q7) Display the Id and Name of the Product ordered after “2021-10-05”."
   ]
  },
  {
   "cell_type": "code",
   "execution_count": 17,
   "id": "5d3fc7e8",
   "metadata": {
    "id": "5d3fc7e8"
   },
   "outputs": [
    {
     "name": "stdout",
     "output_type": "stream",
     "text": [
      "(4, 'OATS', 'REURENTBTOTH', 3)\n",
      "(1, 'GTA V', 'DFJDJFDJFDJFDJFJF', 2)\n"
     ]
    }
   ],
   "source": [
    "myCursor.execute (\"SELECT product.PRO_ID, product.PRO_NAME, product.PRO_DESC, product.CAT_ID FROM product INNER JOIN product_details ON product.PRO_ID = product_details.PRO_ID INNER JOIN orders ON product_details.PROD_ID = orders.PROD_ID WHERE  (orders.ORD_DATE > '2021-10-05')\")\n",
    "rows = myCursor.fetchall()\n",
    "for row in rows:\n",
    "    print(row)"
   ]
  },
  {
   "cell_type": "markdown",
   "id": "bdce7167",
   "metadata": {
    "id": "bdce7167"
   },
   "source": [
    "### Q8) Print the top 3 supplier name and id and rating on the basis of their rating along with the customer name who has given the rating."
   ]
  },
  {
   "cell_type": "code",
   "execution_count": 18,
   "id": "fa0cbe44",
   "metadata": {
    "id": "fa0cbe44"
   },
   "outputs": [
    {
     "name": "stdout",
     "output_type": "stream",
     "text": [
      "(1, 'Rajesh Retails', 'PULKIT', 5)\n",
      "(2, 'Appario Ltd.', 'AMAN', 4)\n",
      "(5, 'Mittal Ltd.', 'MEGHA', 4)\n"
     ]
    }
   ],
   "source": [
    "myCursor.execute (\"SELECT supplier.SUPP_ID, supplier.SUPP_NAME, customer.CUS_Name, rating.RAT_RATSTARS FROM rating INNER JOIN customer ON rating.CUS_ID = customer.CUS_ID INNER JOIN supplier ON rating.SUPP_ID = supplier.SUPP_ID ORDER BY rating.RAT_RATSTARS DESC LIMIT 3\")\n",
    "rows = myCursor.fetchall()\n",
    "for row in rows:\n",
    "    print(row)"
   ]
  },
  {
   "cell_type": "markdown",
   "id": "346ec2a1",
   "metadata": {
    "id": "346ec2a1"
   },
   "source": [
    "### Q9) Display customer name and gender whose names start or end with character 'A'."
   ]
  },
  {
   "cell_type": "code",
   "execution_count": 19,
   "id": "e571b5fd",
   "metadata": {
    "id": "e571b5fd"
   },
   "outputs": [
    {
     "name": "stdout",
     "output_type": "stream",
     "text": [
      "('AAKASH',)\n",
      "('AMAN',)\n",
      "('NEHA',)\n",
      "('MEGHA',)\n"
     ]
    }
   ],
   "source": [
    "myCursor.execute (\"SELECT CUS_Name FROM     customer WHERE  (CUS_Name LIKE 'A%') OR  (CUS_Name LIKE '%A') \")\n",
    "rows = myCursor.fetchall()\n",
    "for row in rows:\n",
    "    print(row)"
   ]
  },
  {
   "cell_type": "markdown",
   "id": "d0b01f77",
   "metadata": {
    "id": "d0b01f77"
   },
   "source": [
    "### Q10) Display the total order amount of the male customers."
   ]
  },
  {
   "cell_type": "code",
   "execution_count": 20,
   "id": "c3fa76e3",
   "metadata": {
    "id": "c3fa76e3"
   },
   "outputs": [
    {
     "name": "stdout",
     "output_type": "stream",
     "text": [
      "(34500.0,)\n"
     ]
    }
   ],
   "source": [
    "myCursor.execute (\"SELECT SUM(orders.ORD_AMOUNT) AS TotalORderValue FROM     orders INNER JOIN customer ON orders.CUS_ID = customer.CUS_ID GROUP BY customer.CUS_GENDER HAVING (customer.CUS_GENDER = 'M')\")\n",
    "rows = myCursor.fetchall()\n",
    "for row in rows:\n",
    "    print(row)"
   ]
  },
  {
   "cell_type": "markdown",
   "id": "ff8a9971",
   "metadata": {
    "id": "ff8a9971"
   },
   "source": [
    "### Q11) Display all the Customers left outer join with  the orders"
   ]
  },
  {
   "cell_type": "code",
   "execution_count": 21,
   "id": "a340c6d6",
   "metadata": {
    "id": "a340c6d6"
   },
   "outputs": [
    {
     "name": "stdout",
     "output_type": "stream",
     "text": [
      "(1, 'AAKASH', '9999999999', 'DELHI', 'M', 3, 2000.0, datetime.date(2021, 10, 5), 1)\n",
      "(2, 'AMAN', '9785463215', 'NOIDA', 'M', 5, 2000.0, datetime.date(2021, 10, 6), 1)\n",
      "(3, 'NEHA', '9999999998', 'MUMBAI', 'F', 1, 1500.0, datetime.date(2021, 10, 12), 5)\n",
      "(4, 'MEGHA', '9994562399', 'KOLKATA', 'F', 4, 3500.0, datetime.date(2021, 8, 16), 3)\n",
      "(5, 'PULKIT', '7895999999', 'LUCKNOW', 'M', 2, 30500.0, datetime.date(2021, 9, 16), 2)\n"
     ]
    }
   ],
   "source": [
    "myCursor.execute (\"SELECT customer.CUS_ID, customer.CUS_Name, customer.CUS_PHONE, customer.CUS_CITY, customer.CUS_GENDER, orders.ORD_ID, orders.ORD_AMOUNT, orders.ORD_DATE, orders.PROD_ID FROM     customer LEFT OUTER JOIN  orders ON customer.CUS_ID = orders.CUS_ID\")\n",
    "rows = myCursor.fetchall()\n",
    "for row in rows:\n",
    "    print(row)"
   ]
  },
  {
   "cell_type": "markdown",
   "id": "0a72afe3",
   "metadata": {
    "id": "0a72afe3"
   },
   "source": [
    "**NOTE:** Always close an open connection once you are done with the database operations"
   ]
  },
  {
   "cell_type": "markdown",
   "id": "8c88f479",
   "metadata": {
    "id": "8c88f479"
   },
   "source": [
    "## Happy Learning:)"
   ]
  }
 ],
 "metadata": {
  "colab": {
   "name": "Lab Session  -  E-Commerce.ipynb",
   "provenance": []
  },
  "kernelspec": {
   "display_name": "Python 3 (ipykernel)",
   "language": "python",
   "name": "python3"
  },
  "language_info": {
   "codemirror_mode": {
    "name": "ipython",
    "version": 3
   },
   "file_extension": ".py",
   "mimetype": "text/x-python",
   "name": "python",
   "nbconvert_exporter": "python",
   "pygments_lexer": "ipython3",
   "version": "3.9.12"
  }
 },
 "nbformat": 4,
 "nbformat_minor": 5
}
